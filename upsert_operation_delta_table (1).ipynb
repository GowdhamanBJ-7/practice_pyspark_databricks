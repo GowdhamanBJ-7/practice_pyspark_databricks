{
 "cells": [
  {
   "cell_type": "code",
   "execution_count": 0,
   "metadata": {
    "application/vnd.databricks.v1+cell": {
     "cellMetadata": {
      "byteLimit": 2048000,
      "rowLimit": 10000
     },
     "inputWidgets": {},
     "nuid": "ac2b25fa-f4af-49ff-8587-0fab02e90597",
     "showTitle": false,
     "tableResultSettingsMap": {},
     "title": ""
    }
   },
   "outputs": [],
   "source": [
    "from pyspark.sql.functions import *\n",
    "import pyspark.sql.functions as F"
   ]
  },
  {
   "cell_type": "code",
   "execution_count": 0,
   "metadata": {
    "application/vnd.databricks.v1+cell": {
     "cellMetadata": {
      "byteLimit": 2048000,
      "rowLimit": 10000
     },
     "inputWidgets": {},
     "nuid": "38d5c3b5-e16e-45ea-900a-12bafce46b8e",
     "showTitle": false,
     "tableResultSettingsMap": {},
     "title": ""
    }
   },
   "outputs": [],
   "source": [
    "data = [\n",
    " \n",
    "  (11111 , 'CA', '2020-01-26'),\n",
    "  (22222,  'CA', '2020-02-26'),\n",
    "  (33333 , 'CA', '2020-03-26'),\n",
    "  (44444 , 'CA', '2020-04-26'),\n",
    "  (55555 , 'CA', '2020-05-26'),\n",
    "  (66666 , 'CA', '2020-06-26'),\n",
    "  (77777 , 'CA', '2020-07-26'),\n",
    "  (88888 , 'CA', '2020-06-10')\n",
    "  \n",
    "  ]\n",
    " \n",
    "columns = ['attom_id', 'state_code', 'sell_date']\n",
    "base_df = spark.createDataFrame(data, columns)"
   ]
  },
  {
   "cell_type": "code",
   "execution_count": 0,
   "metadata": {
    "application/vnd.databricks.v1+cell": {
     "cellMetadata": {
      "byteLimit": 2048000,
      "rowLimit": 10000
     },
     "inputWidgets": {},
     "nuid": "1bbcdb07-2a40-4afc-a757-1124da64bea6",
     "showTitle": false,
     "tableResultSettingsMap": {},
     "title": ""
    }
   },
   "outputs": [],
   "source": [
    "from pyspark.sql.types import DateType\n",
    "\n",
    "base_df = base_df.withColumn('sell_date', to_date(col(\"sell_date\"))) \\\n",
    "        .withColumn(\"is_current\", lit(True)) \\\n",
    "        .withColumn(\"start_date\", to_date(col(\"sell_date\"))) \\\n",
    "        .withColumn(\"end_date\", lit(None).cast(DateType()))"
   ]
  },
  {
   "cell_type": "code",
   "execution_count": 0,
   "metadata": {
    "application/vnd.databricks.v1+cell": {
     "cellMetadata": {
      "byteLimit": 2048000,
      "rowLimit": 10000
     },
     "inputWidgets": {},
     "nuid": "85532fa3-e5ed-41c2-8c7d-5d6cd1c80d3e",
     "showTitle": false,
     "tableResultSettingsMap": {
      "0": {
       "dataGridStateBlob": "{\"version\":1,\"tableState\":{\"columnPinning\":{\"left\":[\"#row_number#\"],\"right\":[]},\"columnSizing\":{},\"columnVisibility\":{}},\"settings\":{\"columns\":{}},\"syncTimestamp\":1758633208798}",
       "filterBlob": null,
       "queryPlanFiltersBlob": null,
       "tableResultIndex": 0
      }
     },
     "title": ""
    }
   },
   "outputs": [
    {
     "output_type": "display_data",
     "data": {
      "text/html": [
       "<style scoped>\n",
       "  .table-result-container {\n",
       "    max-height: 300px;\n",
       "    overflow: auto;\n",
       "  }\n",
       "  table, th, td {\n",
       "    border: 1px solid black;\n",
       "    border-collapse: collapse;\n",
       "  }\n",
       "  th, td {\n",
       "    padding: 5px;\n",
       "  }\n",
       "  th {\n",
       "    text-align: left;\n",
       "  }\n",
       "</style><div class='table-result-container'><table class='table-result'><thead style='background-color: white'><tr><th>attom_id</th><th>state_code</th><th>sell_date</th><th>is_current</th><th>start_date</th><th>end_date</th></tr></thead><tbody><tr><td>11111</td><td>CA</td><td>2020-01-26</td><td>true</td><td>2020-01-26</td><td>null</td></tr><tr><td>22222</td><td>CA</td><td>2020-02-26</td><td>true</td><td>2020-02-26</td><td>null</td></tr><tr><td>33333</td><td>CA</td><td>2020-03-26</td><td>true</td><td>2020-03-26</td><td>null</td></tr><tr><td>44444</td><td>CA</td><td>2020-04-26</td><td>true</td><td>2020-04-26</td><td>null</td></tr><tr><td>55555</td><td>CA</td><td>2020-05-26</td><td>true</td><td>2020-05-26</td><td>null</td></tr><tr><td>66666</td><td>CA</td><td>2020-06-26</td><td>true</td><td>2020-06-26</td><td>null</td></tr><tr><td>77777</td><td>CA</td><td>2020-07-26</td><td>true</td><td>2020-07-26</td><td>null</td></tr><tr><td>88888</td><td>CA</td><td>2020-06-10</td><td>true</td><td>2020-06-10</td><td>null</td></tr></tbody></table></div>"
      ]
     },
     "metadata": {
      "application/vnd.databricks.v1+output": {
       "addedWidgets": {},
       "aggData": [],
       "aggError": "",
       "aggOverflow": false,
       "aggSchema": [],
       "aggSeriesLimitReached": false,
       "aggType": "",
       "arguments": {},
       "columnCustomDisplayInfos": {},
       "data": [
        [
         11111,
         "CA",
         "2020-01-26",
         true,
         "2020-01-26",
         null
        ],
        [
         22222,
         "CA",
         "2020-02-26",
         true,
         "2020-02-26",
         null
        ],
        [
         33333,
         "CA",
         "2020-03-26",
         true,
         "2020-03-26",
         null
        ],
        [
         44444,
         "CA",
         "2020-04-26",
         true,
         "2020-04-26",
         null
        ],
        [
         55555,
         "CA",
         "2020-05-26",
         true,
         "2020-05-26",
         null
        ],
        [
         66666,
         "CA",
         "2020-06-26",
         true,
         "2020-06-26",
         null
        ],
        [
         77777,
         "CA",
         "2020-07-26",
         true,
         "2020-07-26",
         null
        ],
        [
         88888,
         "CA",
         "2020-06-10",
         true,
         "2020-06-10",
         null
        ]
       ],
       "datasetInfos": [],
       "dbfsResultPath": null,
       "isJsonSchema": true,
       "metadata": {},
       "overflow": false,
       "plotOptions": {
        "customPlotOptions": {},
        "displayType": "table",
        "pivotAggregation": null,
        "pivotColumns": null,
        "xColumns": null,
        "yColumns": null
       },
       "removedWidgets": [],
       "schema": [
        {
         "metadata": "{}",
         "name": "attom_id",
         "type": "\"long\""
        },
        {
         "metadata": "{}",
         "name": "state_code",
         "type": "\"string\""
        },
        {
         "metadata": "{}",
         "name": "sell_date",
         "type": "\"date\""
        },
        {
         "metadata": "{}",
         "name": "is_current",
         "type": "\"boolean\""
        },
        {
         "metadata": "{}",
         "name": "start_date",
         "type": "\"date\""
        },
        {
         "metadata": "{}",
         "name": "end_date",
         "type": "\"date\""
        }
       ],
       "type": "table"
      }
     },
     "output_type": "display_data"
    }
   ],
   "source": [
    "base_df.display()"
   ]
  },
  {
   "cell_type": "markdown",
   "metadata": {
    "application/vnd.databricks.v1+cell": {
     "cellMetadata": {},
     "inputWidgets": {},
     "nuid": "173ef0fb-0bdc-46e8-aa90-3398147984f2",
     "showTitle": false,
     "tableResultSettingsMap": {},
     "title": ""
    }
   },
   "source": [
    "saved in workspace\\default\\demo_table_one"
   ]
  },
  {
   "cell_type": "code",
   "execution_count": 0,
   "metadata": {
    "application/vnd.databricks.v1+cell": {
     "cellMetadata": {
      "byteLimit": 2048000,
      "rowLimit": 10000
     },
     "inputWidgets": {},
     "nuid": "53ab10a1-c6e7-480d-ba45-b3ba04b00a6c",
     "showTitle": false,
     "tableResultSettingsMap": {},
     "title": ""
    }
   },
   "outputs": [],
   "source": [
    "base_df.write.format(\"delta\").mode(\"overwrite\").option(\"overwriteSchema\", \"true\").saveAsTable(\"demo_table_one\")"
   ]
  },
  {
   "cell_type": "code",
   "execution_count": 0,
   "metadata": {
    "application/vnd.databricks.v1+cell": {
     "cellMetadata": {
      "byteLimit": 2048000,
      "implicitDf": true,
      "rowLimit": 10000
     },
     "inputWidgets": {},
     "nuid": "11b19f58-5dce-484f-9229-506124865690",
     "showTitle": false,
     "tableResultSettingsMap": {},
     "title": ""
    }
   },
   "outputs": [
    {
     "output_type": "display_data",
     "data": {
      "text/html": [
       "<style scoped>\n",
       "  .table-result-container {\n",
       "    max-height: 300px;\n",
       "    overflow: auto;\n",
       "  }\n",
       "  table, th, td {\n",
       "    border: 1px solid black;\n",
       "    border-collapse: collapse;\n",
       "  }\n",
       "  th, td {\n",
       "    padding: 5px;\n",
       "  }\n",
       "  th {\n",
       "    text-align: left;\n",
       "  }\n",
       "</style><div class='table-result-container'><table class='table-result'><thead style='background-color: white'><tr><th>attom_id</th><th>state_code</th><th>sell_date</th><th>is_current</th><th>start_date</th><th>end_date</th></tr></thead><tbody><tr><td>11111</td><td>CA</td><td>2020-01-26</td><td>true</td><td>2020-01-26</td><td>null</td></tr><tr><td>22222</td><td>CA</td><td>2020-02-26</td><td>true</td><td>2020-02-26</td><td>null</td></tr><tr><td>33333</td><td>CA</td><td>2020-03-26</td><td>true</td><td>2020-03-26</td><td>null</td></tr><tr><td>44444</td><td>CA</td><td>2020-04-26</td><td>true</td><td>2020-04-26</td><td>null</td></tr><tr><td>55555</td><td>CA</td><td>2020-05-26</td><td>true</td><td>2020-05-26</td><td>null</td></tr><tr><td>66666</td><td>CA</td><td>2020-06-26</td><td>true</td><td>2020-06-26</td><td>null</td></tr><tr><td>77777</td><td>CA</td><td>2020-07-26</td><td>true</td><td>2020-07-26</td><td>null</td></tr><tr><td>88888</td><td>CA</td><td>2020-06-10</td><td>true</td><td>2020-06-10</td><td>null</td></tr></tbody></table></div>"
      ]
     },
     "metadata": {
      "application/vnd.databricks.v1+output": {
       "addedWidgets": {},
       "aggData": [],
       "aggError": "",
       "aggOverflow": false,
       "aggSchema": [],
       "aggSeriesLimitReached": false,
       "aggType": "",
       "arguments": {},
       "columnCustomDisplayInfos": {},
       "data": [
        [
         11111,
         "CA",
         "2020-01-26",
         true,
         "2020-01-26",
         null
        ],
        [
         22222,
         "CA",
         "2020-02-26",
         true,
         "2020-02-26",
         null
        ],
        [
         33333,
         "CA",
         "2020-03-26",
         true,
         "2020-03-26",
         null
        ],
        [
         44444,
         "CA",
         "2020-04-26",
         true,
         "2020-04-26",
         null
        ],
        [
         55555,
         "CA",
         "2020-05-26",
         true,
         "2020-05-26",
         null
        ],
        [
         66666,
         "CA",
         "2020-06-26",
         true,
         "2020-06-26",
         null
        ],
        [
         77777,
         "CA",
         "2020-07-26",
         true,
         "2020-07-26",
         null
        ],
        [
         88888,
         "CA",
         "2020-06-10",
         true,
         "2020-06-10",
         null
        ]
       ],
       "datasetInfos": [
        {
         "name": "_sqldf",
         "schema": {
          "fields": [
           {
            "metadata": {},
            "name": "attom_id",
            "nullable": true,
            "type": "long"
           },
           {
            "metadata": {},
            "name": "state_code",
            "nullable": true,
            "type": "string"
           },
           {
            "metadata": {},
            "name": "sell_date",
            "nullable": true,
            "type": "date"
           },
           {
            "metadata": {},
            "name": "is_current",
            "nullable": true,
            "type": "boolean"
           },
           {
            "metadata": {},
            "name": "start_date",
            "nullable": true,
            "type": "date"
           },
           {
            "metadata": {},
            "name": "end_date",
            "nullable": true,
            "type": "date"
           }
          ],
          "type": "struct"
         },
         "tableIdentifier": null,
         "typeStr": "pyspark.sql.connect.dataframe.DataFrame"
        }
       ],
       "dbfsResultPath": null,
       "isJsonSchema": true,
       "metadata": {
        "createTempViewForImplicitDf": true,
        "dataframeName": "_sqldf",
        "executionCount": 118
       },
       "overflow": false,
       "plotOptions": {
        "customPlotOptions": {},
        "displayType": "table",
        "pivotAggregation": null,
        "pivotColumns": null,
        "xColumns": null,
        "yColumns": null
       },
       "removedWidgets": [],
       "schema": [
        {
         "metadata": "{}",
         "name": "attom_id",
         "type": "\"long\""
        },
        {
         "metadata": "{}",
         "name": "state_code",
         "type": "\"string\""
        },
        {
         "metadata": "{}",
         "name": "sell_date",
         "type": "\"date\""
        },
        {
         "metadata": "{}",
         "name": "is_current",
         "type": "\"boolean\""
        },
        {
         "metadata": "{}",
         "name": "start_date",
         "type": "\"date\""
        },
        {
         "metadata": "{}",
         "name": "end_date",
         "type": "\"date\""
        }
       ],
       "type": "table"
      }
     },
     "output_type": "display_data"
    }
   ],
   "source": [
    "%sql\n",
    "select * from demo_table_one"
   ]
  },
  {
   "cell_type": "code",
   "execution_count": 0,
   "metadata": {
    "application/vnd.databricks.v1+cell": {
     "cellMetadata": {
      "byteLimit": 2048000,
      "rowLimit": 10000
     },
     "inputWidgets": {},
     "nuid": "05960c2d-976a-4317-9d31-16071b5da3c0",
     "showTitle": false,
     "tableResultSettingsMap": {},
     "title": ""
    }
   },
   "outputs": [],
   "source": [
    "new_data = [\n",
    "  (11111 , 'WW', '2020-02-26'),\n",
    "  (88888 , 'WW', '2020-06-10'),\n",
    "  (55555 , 'WW', '2020-03-15'),\n",
    "  (99999,  'WW', '2020-07-01')\n",
    "]"
   ]
  },
  {
   "cell_type": "code",
   "execution_count": 0,
   "metadata": {
    "application/vnd.databricks.v1+cell": {
     "cellMetadata": {
      "byteLimit": 2048000,
      "rowLimit": 10000
     },
     "inputWidgets": {},
     "nuid": "89c26294-e104-4989-b561-e25692f5d5ac",
     "showTitle": false,
     "tableResultSettingsMap": {},
     "title": ""
    }
   },
   "outputs": [],
   "source": [
    "new_data = spark.createDataFrame(new_data, columns)\n",
    "new_data = new_data.withColumn('sell_date', to_date(col(\"sell_date\"))) \n",
    "       "
   ]
  },
  {
   "cell_type": "code",
   "execution_count": 0,
   "metadata": {
    "application/vnd.databricks.v1+cell": {
     "cellMetadata": {
      "byteLimit": 2048000,
      "rowLimit": 10000
     },
     "inputWidgets": {},
     "nuid": "3bc95ed4-1616-42b3-9aa0-5a8d67ba8f1b",
     "showTitle": false,
     "tableResultSettingsMap": {},
     "title": ""
    }
   },
   "outputs": [],
   "source": [
    "from delta.tables import DeltaTable\n",
    "deltaTable = DeltaTable.forName(spark, \"demo_table_one\") "
   ]
  },
  {
   "cell_type": "markdown",
   "metadata": {
    "application/vnd.databricks.v1+cell": {
     "cellMetadata": {},
     "inputWidgets": {},
     "nuid": "dec2f327-09b5-4ff6-9f60-0b88e197d945",
     "showTitle": false,
     "tableResultSettingsMap": {},
     "title": ""
    }
   },
   "source": [
    "scd type-2"
   ]
  },
  {
   "cell_type": "code",
   "execution_count": 0,
   "metadata": {
    "application/vnd.databricks.v1+cell": {
     "cellMetadata": {
      "byteLimit": 2048000,
      "rowLimit": 10000
     },
     "inputWidgets": {},
     "nuid": "11fbf601-4070-41e5-b97c-1c25feab9f78",
     "showTitle": false,
     "tableResultSettingsMap": {},
     "title": ""
    }
   },
   "outputs": [
    {
     "output_type": "execute_result",
     "data": {
      "text/plain": [
       "DataFrame[num_affected_rows: bigint, num_updated_rows: bigint, num_deleted_rows: bigint, num_inserted_rows: bigint]"
      ]
     },
     "execution_count": 139,
     "metadata": {},
     "output_type": "execute_result"
    }
   ],
   "source": [
    "(deltaTable.alias(\"target\").merge(new_data.alias(\"src\"), \n",
    "                                 \"src.attom_id = target.attom_id AND target.is_current = true\")\n",
    "                        .whenMatchedUpdate(\n",
    "                            condition=\"src.state_code <> target.state_code AND target.is_current = true\",\n",
    "                            set = {\n",
    "                                \"is_current\": lit(False),\n",
    "                                \"end_date\": current_date()\n",
    "                            }                      \n",
    "                        )\n",
    "                        .whenNotMatchedInsert(\n",
    "                            values={\n",
    "                                \"attom_id\": \"src.attom_id\",\n",
    "                                \"state_code\": \"src.state_code\",\n",
    "                                \"sell_date\": \"src.sell_date\",\n",
    "                                \"is_current\": lit(True),\n",
    "                                \"start_date\": current_date(),\n",
    "                                \"end_date\": lit(None).cast(\"date\")\n",
    "                            }\n",
    "                        )\n",
    "                        .execute()\n",
    "                        )"
   ]
  },
  {
   "cell_type": "code",
   "execution_count": 0,
   "metadata": {
    "application/vnd.databricks.v1+cell": {
     "cellMetadata": {
      "byteLimit": 2048000,
      "rowLimit": 10000
     },
     "inputWidgets": {},
     "nuid": "2175aa6c-c256-4366-957f-e8afc104474e",
     "showTitle": false,
     "tableResultSettingsMap": {},
     "title": ""
    }
   },
   "outputs": [
    {
     "output_type": "display_data",
     "data": {
      "text/html": [
       "<style scoped>\n",
       "  .table-result-container {\n",
       "    max-height: 300px;\n",
       "    overflow: auto;\n",
       "  }\n",
       "  table, th, td {\n",
       "    border: 1px solid black;\n",
       "    border-collapse: collapse;\n",
       "  }\n",
       "  th, td {\n",
       "    padding: 5px;\n",
       "  }\n",
       "  th {\n",
       "    text-align: left;\n",
       "  }\n",
       "</style><div class='table-result-container'><table class='table-result'><thead style='background-color: white'><tr><th>attom_id</th><th>state_code</th><th>sell_date</th><th>is_current</th><th>start_date</th><th>end_date</th></tr></thead><tbody><tr><td>11111</td><td>CA</td><td>2020-01-26</td><td>false</td><td>2020-01-26</td><td>2025-09-23</td></tr><tr><td>11111</td><td>WW</td><td>2020-02-26</td><td>true</td><td>2025-09-23</td><td>null</td></tr><tr><td>22222</td><td>CA</td><td>2020-02-26</td><td>true</td><td>2020-02-26</td><td>null</td></tr><tr><td>33333</td><td>CA</td><td>2020-03-26</td><td>true</td><td>2020-03-26</td><td>null</td></tr><tr><td>44444</td><td>CA</td><td>2020-04-26</td><td>true</td><td>2020-04-26</td><td>null</td></tr><tr><td>55555</td><td>CA</td><td>2020-05-26</td><td>false</td><td>2020-05-26</td><td>2025-09-23</td></tr><tr><td>55555</td><td>WW</td><td>2020-03-15</td><td>true</td><td>2025-09-23</td><td>null</td></tr><tr><td>66666</td><td>CA</td><td>2020-06-26</td><td>true</td><td>2020-06-26</td><td>null</td></tr><tr><td>77777</td><td>CA</td><td>2020-07-26</td><td>true</td><td>2020-07-26</td><td>null</td></tr><tr><td>88888</td><td>CA</td><td>2020-06-10</td><td>false</td><td>2020-06-10</td><td>2025-09-23</td></tr><tr><td>88888</td><td>WW</td><td>2020-06-10</td><td>true</td><td>2025-09-23</td><td>null</td></tr><tr><td>99999</td><td>WW</td><td>2020-07-01</td><td>true</td><td>2025-09-23</td><td>null</td></tr></tbody></table></div>"
      ]
     },
     "metadata": {
      "application/vnd.databricks.v1+output": {
       "addedWidgets": {},
       "aggData": [],
       "aggError": "",
       "aggOverflow": false,
       "aggSchema": [],
       "aggSeriesLimitReached": false,
       "aggType": "",
       "arguments": {},
       "columnCustomDisplayInfos": {},
       "data": [
        [
         11111,
         "CA",
         "2020-01-26",
         false,
         "2020-01-26",
         "2025-09-23"
        ],
        [
         11111,
         "WW",
         "2020-02-26",
         true,
         "2025-09-23",
         null
        ],
        [
         22222,
         "CA",
         "2020-02-26",
         true,
         "2020-02-26",
         null
        ],
        [
         33333,
         "CA",
         "2020-03-26",
         true,
         "2020-03-26",
         null
        ],
        [
         44444,
         "CA",
         "2020-04-26",
         true,
         "2020-04-26",
         null
        ],
        [
         55555,
         "CA",
         "2020-05-26",
         false,
         "2020-05-26",
         "2025-09-23"
        ],
        [
         55555,
         "WW",
         "2020-03-15",
         true,
         "2025-09-23",
         null
        ],
        [
         66666,
         "CA",
         "2020-06-26",
         true,
         "2020-06-26",
         null
        ],
        [
         77777,
         "CA",
         "2020-07-26",
         true,
         "2020-07-26",
         null
        ],
        [
         88888,
         "CA",
         "2020-06-10",
         false,
         "2020-06-10",
         "2025-09-23"
        ],
        [
         88888,
         "WW",
         "2020-06-10",
         true,
         "2025-09-23",
         null
        ],
        [
         99999,
         "WW",
         "2020-07-01",
         true,
         "2025-09-23",
         null
        ]
       ],
       "datasetInfos": [],
       "dbfsResultPath": null,
       "isJsonSchema": true,
       "metadata": {},
       "overflow": false,
       "plotOptions": {
        "customPlotOptions": {},
        "displayType": "table",
        "pivotAggregation": null,
        "pivotColumns": null,
        "xColumns": null,
        "yColumns": null
       },
       "removedWidgets": [],
       "schema": [
        {
         "metadata": "{}",
         "name": "attom_id",
         "type": "\"long\""
        },
        {
         "metadata": "{}",
         "name": "state_code",
         "type": "\"string\""
        },
        {
         "metadata": "{}",
         "name": "sell_date",
         "type": "\"date\""
        },
        {
         "metadata": "{}",
         "name": "is_current",
         "type": "\"boolean\""
        },
        {
         "metadata": "{}",
         "name": "start_date",
         "type": "\"date\""
        },
        {
         "metadata": "{}",
         "name": "end_date",
         "type": "\"date\""
        }
       ],
       "type": "table"
      }
     },
     "output_type": "display_data"
    }
   ],
   "source": [
    "spark.sql(\"SELECT * FROM demo_table_one ORDER BY attom_id, start_date\").display()\n"
   ]
  },
  {
   "cell_type": "markdown",
   "metadata": {
    "application/vnd.databricks.v1+cell": {
     "cellMetadata": {},
     "inputWidgets": {},
     "nuid": "6fd86402-7fb3-4b41-a56c-a4557e7c4aec",
     "showTitle": false,
     "tableResultSettingsMap": {},
     "title": ""
    }
   },
   "source": [
    "without condition"
   ]
  },
  {
   "cell_type": "code",
   "execution_count": 0,
   "metadata": {
    "application/vnd.databricks.v1+cell": {
     "cellMetadata": {
      "byteLimit": 2048000,
      "rowLimit": 10000
     },
     "inputWidgets": {},
     "nuid": "104ed645-b79c-47b6-b0ca-37eaef00d9fb",
     "showTitle": false,
     "tableResultSettingsMap": {},
     "title": ""
    }
   },
   "outputs": [
    {
     "output_type": "execute_result",
     "data": {
      "text/plain": [
       "DataFrame[num_affected_rows: bigint, num_updated_rows: bigint, num_deleted_rows: bigint, num_inserted_rows: bigint]"
      ]
     },
     "execution_count": 137,
     "metadata": {},
     "output_type": "execute_result"
    }
   ],
   "source": [
    "(deltaTable.alias(\"target\").merge(new_data.alias(\"src\"), \n",
    "                                 \"src.attom_id = target.attom_id AND target.is_current = true\")\n",
    "                        .whenMatchedUpdate(\n",
    "                            set = {\n",
    "                                \"is_current\": lit(False),\n",
    "                                \"end_date\": current_date()\n",
    "                            }                      \n",
    "                        )\n",
    "                        .whenNotMatchedInsert(\n",
    "                            values={\n",
    "                                \"attom_id\": \"src.attom_id\",\n",
    "                                \"state_code\": \"src.state_code\",\n",
    "                                \"sell_date\": \"src.sell_date\",\n",
    "                                \"is_current\": lit(True),\n",
    "                                \"start_date\": current_date(),\n",
    "                                \"end_date\": lit(None).cast(\"date\")\n",
    "                            }\n",
    "                        )\n",
    "                        .execute()\n",
    "                        )"
   ]
  },
  {
   "cell_type": "code",
   "execution_count": 0,
   "metadata": {
    "application/vnd.databricks.v1+cell": {
     "cellMetadata": {
      "byteLimit": 2048000,
      "implicitDf": true,
      "rowLimit": 10000
     },
     "inputWidgets": {},
     "nuid": "f08dd9a4-bbdc-4802-8fff-59cbbbb807a4",
     "showTitle": false,
     "tableResultSettingsMap": {},
     "title": ""
    }
   },
   "outputs": [
    {
     "output_type": "display_data",
     "data": {
      "text/html": [
       "<style scoped>\n",
       "  .table-result-container {\n",
       "    max-height: 300px;\n",
       "    overflow: auto;\n",
       "  }\n",
       "  table, th, td {\n",
       "    border: 1px solid black;\n",
       "    border-collapse: collapse;\n",
       "  }\n",
       "  th, td {\n",
       "    padding: 5px;\n",
       "  }\n",
       "  th {\n",
       "    text-align: left;\n",
       "  }\n",
       "</style><div class='table-result-container'><table class='table-result'><thead style='background-color: white'><tr><th>attom_id</th><th>state_code</th><th>sell_date</th><th>is_current</th><th>start_date</th><th>end_date</th></tr></thead><tbody><tr><td>11111</td><td>CA</td><td>2020-01-26</td><td>false</td><td>2020-01-26</td><td>2025-09-23</td></tr><tr><td>22222</td><td>CA</td><td>2020-02-26</td><td>true</td><td>2020-02-26</td><td>null</td></tr><tr><td>33333</td><td>CA</td><td>2020-03-26</td><td>true</td><td>2020-03-26</td><td>null</td></tr><tr><td>44444</td><td>CA</td><td>2020-04-26</td><td>true</td><td>2020-04-26</td><td>null</td></tr><tr><td>55555</td><td>CA</td><td>2020-05-26</td><td>false</td><td>2020-05-26</td><td>2025-09-23</td></tr><tr><td>66666</td><td>CA</td><td>2020-06-26</td><td>true</td><td>2020-06-26</td><td>null</td></tr><tr><td>77777</td><td>CA</td><td>2020-07-26</td><td>true</td><td>2020-07-26</td><td>null</td></tr><tr><td>88888</td><td>CA</td><td>2020-06-10</td><td>false</td><td>2020-06-10</td><td>2025-09-23</td></tr><tr><td>99999</td><td>WW</td><td>2020-07-01</td><td>true</td><td>2025-09-23</td><td>null</td></tr></tbody></table></div>"
      ]
     },
     "metadata": {
      "application/vnd.databricks.v1+output": {
       "addedWidgets": {},
       "aggData": [],
       "aggError": "",
       "aggOverflow": false,
       "aggSchema": [],
       "aggSeriesLimitReached": false,
       "aggType": "",
       "arguments": {},
       "columnCustomDisplayInfos": {},
       "data": [
        [
         11111,
         "CA",
         "2020-01-26",
         false,
         "2020-01-26",
         "2025-09-23"
        ],
        [
         22222,
         "CA",
         "2020-02-26",
         true,
         "2020-02-26",
         null
        ],
        [
         33333,
         "CA",
         "2020-03-26",
         true,
         "2020-03-26",
         null
        ],
        [
         44444,
         "CA",
         "2020-04-26",
         true,
         "2020-04-26",
         null
        ],
        [
         55555,
         "CA",
         "2020-05-26",
         false,
         "2020-05-26",
         "2025-09-23"
        ],
        [
         66666,
         "CA",
         "2020-06-26",
         true,
         "2020-06-26",
         null
        ],
        [
         77777,
         "CA",
         "2020-07-26",
         true,
         "2020-07-26",
         null
        ],
        [
         88888,
         "CA",
         "2020-06-10",
         false,
         "2020-06-10",
         "2025-09-23"
        ],
        [
         99999,
         "WW",
         "2020-07-01",
         true,
         "2025-09-23",
         null
        ]
       ],
       "datasetInfos": [
        {
         "name": "_sqldf",
         "schema": {
          "fields": [
           {
            "metadata": {},
            "name": "attom_id",
            "nullable": true,
            "type": "long"
           },
           {
            "metadata": {},
            "name": "state_code",
            "nullable": true,
            "type": "string"
           },
           {
            "metadata": {},
            "name": "sell_date",
            "nullable": true,
            "type": "date"
           },
           {
            "metadata": {},
            "name": "is_current",
            "nullable": true,
            "type": "boolean"
           },
           {
            "metadata": {},
            "name": "start_date",
            "nullable": true,
            "type": "date"
           },
           {
            "metadata": {},
            "name": "end_date",
            "nullable": true,
            "type": "date"
           }
          ],
          "type": "struct"
         },
         "tableIdentifier": null,
         "typeStr": "pyspark.sql.connect.dataframe.DataFrame"
        }
       ],
       "dbfsResultPath": null,
       "isJsonSchema": true,
       "metadata": {
        "createTempViewForImplicitDf": true,
        "dataframeName": "_sqldf",
        "executionCount": 138
       },
       "overflow": false,
       "plotOptions": {
        "customPlotOptions": {},
        "displayType": "table",
        "pivotAggregation": null,
        "pivotColumns": null,
        "xColumns": null,
        "yColumns": null
       },
       "removedWidgets": [],
       "schema": [
        {
         "metadata": "{}",
         "name": "attom_id",
         "type": "\"long\""
        },
        {
         "metadata": "{}",
         "name": "state_code",
         "type": "\"string\""
        },
        {
         "metadata": "{}",
         "name": "sell_date",
         "type": "\"date\""
        },
        {
         "metadata": "{}",
         "name": "is_current",
         "type": "\"boolean\""
        },
        {
         "metadata": "{}",
         "name": "start_date",
         "type": "\"date\""
        },
        {
         "metadata": "{}",
         "name": "end_date",
         "type": "\"date\""
        }
       ],
       "type": "table"
      }
     },
     "output_type": "display_data"
    }
   ],
   "source": [
    "%sql\n",
    "select * from demo_table_one order by attom_id, state_code"
   ]
  },
  {
   "cell_type": "code",
   "execution_count": 0,
   "metadata": {
    "application/vnd.databricks.v1+cell": {
     "cellMetadata": {},
     "inputWidgets": {},
     "nuid": "dc4060b7-60db-41a4-abaa-7582c46f4cf9",
     "showTitle": false,
     "tableResultSettingsMap": {},
     "title": ""
    }
   },
   "outputs": [],
   "source": []
  }
 ],
 "metadata": {
  "application/vnd.databricks.v1+notebook": {
   "computePreferences": null,
   "dashboards": [],
   "environmentMetadata": {
    "base_environment": "",
    "environment_version": "3"
   },
   "inputWidgetPreferences": null,
   "language": "python",
   "notebookMetadata": {
    "mostRecentlyExecutedCommandWithImplicitDF": {
     "commandId": 6740153240005940,
     "dataframes": [
      "_sqldf"
     ]
    },
    "pythonIndentUnit": 4
   },
   "notebookName": "upsert_operation_delta_table",
   "widgets": {}
  },
  "language_info": {
   "name": "python"
  }
 },
 "nbformat": 4,
 "nbformat_minor": 0
}